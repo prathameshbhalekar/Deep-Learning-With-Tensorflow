{
  "nbformat": 4,
  "nbformat_minor": 0,
  "metadata": {
    "colab": {
      "name": "Untitled5.ipynb",
      "provenance": [],
      "authorship_tag": "ABX9TyP/yFpZtr5WC1eNo0f0/Vyi",
      "include_colab_link": true
    },
    "kernelspec": {
      "name": "python3",
      "display_name": "Python 3"
    }
  },
  "cells": [
    {
      "cell_type": "markdown",
      "metadata": {
        "id": "view-in-github",
        "colab_type": "text"
      },
      "source": [
        "<a href=\"https://colab.research.google.com/github/prathameshbhalekar/Deep-Learning-With-Tensorflow/blob/master/Regression.ipynb\" target=\"_parent\"><img src=\"https://colab.research.google.com/assets/colab-badge.svg\" alt=\"Open In Colab\"/></a>"
      ]
    },
    {
      "cell_type": "code",
      "metadata": {
        "id": "trurpyzGoqhi",
        "colab_type": "code",
        "colab": {}
      },
      "source": [
        "import tensorflow as tf\n",
        "import pandas as pd\n",
        "import numpy as np\n",
        "import matplotlib.pyplot as plt\n",
        "from tensorflow import keras\n",
        "import seaborn as sns\n",
        "from sklearn.model_selection import train_test_split\n",
        "import tensorflow_docs as tfdocs\n",
        "import tensorflow_docs.plots\n",
        "import tensorflow_docs.modeling"
      ],
      "execution_count": 0,
      "outputs": []
    },
    {
      "cell_type": "code",
      "metadata": {
        "id": "jsI8m9w6tLzD",
        "colab_type": "code",
        "outputId": "3e79d327-2026-4d47-c1da-d7a9e5cb69e1",
        "colab": {
          "base_uri": "https://localhost:8080/",
          "height": 34
        }
      },
      "source": [
        "!pip install -q git+https://github.com/tensorflow/docs"
      ],
      "execution_count": 0,
      "outputs": [
        {
          "output_type": "stream",
          "text": [
            "  Building wheel for tensorflow-docs (setup.py) ... \u001b[?25l\u001b[?25hdone\n"
          ],
          "name": "stdout"
        }
      ]
    },
    {
      "cell_type": "code",
      "metadata": {
        "id": "OWBRxxYPpHR6",
        "colab_type": "code",
        "outputId": "0d95b07d-537c-4cea-c0f4-7d290cd60ff8",
        "colab": {
          "base_uri": "https://localhost:8080/",
          "height": 283
        }
      },
      "source": [
        "dataset_path = keras.utils.get_file(\"auto-mpg.data\", \"http://archive.ics.uci.edu/ml/machine-learning-databases/auto-mpg/auto-mpg.data\")\n",
        "column_names = ['MPG','Cylinders','Displacement','Horsepower','Weight',\n",
        "                'Acceleration', 'Model Year', 'Origin']\n",
        "df=pd.read_csv(dataset_path,names=column_names,sep=' ',na_values='?',skipinitialspace=True,comment='\\t')\n",
        "df.dropna(subset=['MPG', 'Cylinders', 'Displacement', 'Horsepower', 'Weight','Acceleration', 'Model Year', 'Origin'],inplace=True)\n",
        "df['Europe']=0\n",
        "df['USA']=0\n",
        "df['Japan']=0\n",
        "l,_=df.shape\n",
        "print(l)\n",
        "for i in range(l):\n",
        "    # print(df.Origin.get(i))\n",
        "    if(df.Origin.get(i)==1):\n",
        "      df.at[i,'USA']=1\n",
        "    if(df.Origin.get(i)==2):\n",
        "      df.at[i,'Europe']=1\n",
        "    if(df.Origin.get(i)==3):\n",
        "      df.at[i,'Japan']=1\n",
        "\n",
        "df=df.drop(\"Origin\",1)\n",
        "train_featureset,test_featureset=train_test_split(df,test_size=0.2)\n",
        "train_values=train_featureset.MPG\n",
        "train_featureset=train_featureset.drop(\"MPG\",1)\n",
        "test_values=test_featureset.MPG\n",
        "test_featureset=test_featureset.drop(\"MPG\",1)\n",
        "\n",
        "train_featureset=(train_featureset-train_featureset.mean())/train_featureset.std()\n",
        "test_featureset=(test_featureset-test_featureset.mean())/test_featureset.std()\n",
        "print(train_featureset)\n"
      ],
      "execution_count": 0,
      "outputs": [
        {
          "output_type": "stream",
          "text": [
            "392\n",
            "     Cylinders  Displacement  Horsepower  ...    Europe       USA     Japan\n",
            "271  -0.856248     -0.356661    0.030940  ... -0.460974  0.803306 -0.506169\n",
            "270  -0.856248     -0.566483   -0.234378  ... -0.460974 -1.240879  1.969313\n",
            "0     1.510248      1.083482    0.694233  ... -0.460974  0.803306 -0.506169\n",
            "312  -0.856248     -1.024277   -1.030331  ... -0.460974 -1.240879  1.969313\n",
            "267  -0.856248     -0.566483   -0.234378  ... -0.460974 -1.240879  1.969313\n",
            "..         ...           ...         ...  ...       ...       ...       ...\n",
            "191   0.327000      0.301417   -0.101719  ... -0.460974  0.803306 -0.506169\n",
            "90    1.510248      2.247041    2.498393  ... -0.460974  0.803306 -0.506169\n",
            "376  -0.856248     -0.976590   -0.950735  ... -0.460974 -1.240879  1.969313\n",
            "166   1.510248      1.035795    0.667702  ... -0.460974  0.803306 -0.506169\n",
            "339  -0.856248     -0.404348   -0.526227  ... -0.460974  0.803306 -0.506169\n",
            "\n",
            "[313 rows x 9 columns]\n"
          ],
          "name": "stdout"
        }
      ]
    },
    {
      "cell_type": "code",
      "metadata": {
        "id": "tVQc6DSfWD-h",
        "colab_type": "code",
        "colab": {}
      },
      "source": [
        ""
      ],
      "execution_count": 0,
      "outputs": []
    },
    {
      "cell_type": "code",
      "metadata": {
        "id": "MWHTWHvtUBtY",
        "colab_type": "code",
        "colab": {}
      },
      "source": [
        "model=keras.Sequential(layers=[keras.layers.Dense(64,activation='relu',input_shape=[len(test_featureset.columns)]),\n",
        "                               keras.layers.Dense(64,activation='relu'),\n",
        "                               \n",
        "                               keras.layers.Dense(1)])\n",
        "\n",
        "optimizer = tf.keras.optimizers.RMSprop(0.001)\n",
        "model.compile(loss='mse',\n",
        "                optimizer=optimizer,\n",
        "                metrics=['mae', 'mse'])"
      ],
      "execution_count": 0,
      "outputs": []
    },
    {
      "cell_type": "code",
      "metadata": {
        "id": "yWEpaFZ6YkKK",
        "colab_type": "code",
        "outputId": "28331c21-39b0-400b-a40f-33f7da910041",
        "colab": {
          "base_uri": "https://localhost:8080/",
          "height": 70
        }
      },
      "source": [
        "early_stop = keras.callbacks.EarlyStopping(monitor='val_loss', patience=10)\n",
        "\n",
        "history = model.fit(train_featureset, train_values, \n",
        "                    epochs=1000, validation_split = 0.2, verbose=0, \n",
        "                    callbacks=[early_stop, tfdocs.modeling.EpochDots()])\n",
        "his=pd.DataFrame(history.history)\n"
      ],
      "execution_count": 0,
      "outputs": [
        {
          "output_type": "stream",
          "text": [
            "\n",
            "Epoch: 0, loss:5.4638,  mae:1.6940,  mse:5.4638,  val_loss:7.6384,  val_mae:2.0283,  val_mse:7.6384,  \n",
            "................"
          ],
          "name": "stdout"
        }
      ]
    },
    {
      "cell_type": "code",
      "metadata": {
        "id": "utZB_ZMdus4S",
        "colab_type": "code",
        "outputId": "db881841-102f-49cd-dcc8-63e54ec677b9",
        "colab": {
          "base_uri": "https://localhost:8080/",
          "height": 407
        }
      },
      "source": [
        "his['epoch']=history.epoch\n",
        "print(his.head())\n",
        "plotter = tfdocs.plots.HistoryPlotter(smoothing_std=2)\n",
        "plotter.plot({'Basic': history}, metric = \"mae\")\n",
        "plt.ylim([0, 10])\n",
        "plt.ylabel('MAE [MPG]')"
      ],
      "execution_count": 0,
      "outputs": [
        {
          "output_type": "stream",
          "text": [
            "         loss        mae         mse    val_loss    val_mae     val_mse  epoch\n",
            "0  567.025513  22.460688  567.025513  513.228699  21.360329  513.228699      0\n",
            "1  500.530792  20.982668  500.530792  455.172363  19.997555  455.172363      1\n",
            "2  437.318939  19.487028  437.318939  393.090637  18.455187  393.090637      2\n",
            "3  368.482025  17.771709  368.482025  326.673615  16.671127  326.673615      3\n",
            "4  299.415222  15.850050  299.415222  263.435760  14.768339  263.435760      4\n"
          ],
          "name": "stdout"
        },
        {
          "output_type": "execute_result",
          "data": {
            "text/plain": [
              "Text(0, 0.5, 'MAE [MPG]')"
            ]
          },
          "metadata": {
            "tags": []
          },
          "execution_count": 109
        },
        {
          "output_type": "display_data",
          "data": {
            "image/png": "[encoded data removed]",
            "text/plain": [
              "<Figure size 432x288 with 1 Axes>"
            ]
          },
          "metadata": {
            "tags": [],
            "needs_background": "light"
          }
        }
      ]
    },
    {
      "cell_type": "code",
      "metadata": {
        "id": "RJ8CEqiWvhVJ",
        "colab_type": "code",
        "outputId": "642a80fb-b537-4cb9-ed75-eb5e3ca01fc8",
        "colab": {
          "base_uri": "https://localhost:8080/",
          "height": 301
        }
      },
      "source": [
        "plotter.plot({'Basic': history}, metric = \"mse\")\n",
        "plt.ylim([0, 20])\n",
        "plt.ylabel('MSE [MPG^2]')"
      ],
      "execution_count": 0,
      "outputs": [
        {
          "output_type": "execute_result",
          "data": {
            "text/plain": [
              "Text(0, 0.5, 'MSE [MPG^2]')"
            ]
          },
          "metadata": {
            "tags": []
          },
          "execution_count": 110
        },
        {
          "output_type": "display_data",
          "data": {
            "image/png": "[encoded data removed]",
            "text/plain": [
              "<Figure size 432x288 with 1 Axes>"
            ]
          },
          "metadata": {
            "tags": [],
            "needs_background": "light"
          }
        }
      ]
    },
    {
      "cell_type": "code",
      "metadata": {
        "id": "3SnPGL35aMzW",
        "colab_type": "code",
        "outputId": "24a1cce4-703c-4c60-e914-0ae08cd5fe3a",
        "colab": {
          "base_uri": "https://localhost:8080/",
          "height": 52
        }
      },
      "source": [
        "\n",
        "loss, mae, mse = model.evaluate(test_featureset, test_values, verbose=2)\n",
        "\n",
        "print(\"Testing set Mean Abs Error: {:5.2f} MPG\".format(mae))"
      ],
      "execution_count": 0,
      "outputs": [
        {
          "output_type": "stream",
          "text": [
            "3/3 - 0s - loss: 8.8823 - mae: 2.2322 - mse: 8.8823\n",
            "Testing set Mean Abs Error:  2.23 MPG\n"
          ],
          "name": "stdout"
        }
      ]
    }
  ]
}